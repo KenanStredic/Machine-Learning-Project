{
 "cells": [
  {
   "cell_type": "code",
   "execution_count": 1,
   "id": "a3c3f5ca",
   "metadata": {},
   "outputs": [],
   "source": [
    "import numpy as np\n",
    "import tensorflow as tf\n",
    "from tensorflow import keras\n",
    "from tensorflow.keras import layers\n",
    "from tensorflow.keras.datasets import mnist\n",
    "from tensorflow.keras.preprocessing.image import ImageDataGenerator\n",
    "from sklearn.metrics import confusion_matrix, precision_score, recall_score, f1_score, roc_auc_score\n",
    "import datetime\n",
    "\n",
    "# Load MNIST dataset\n",
    "(x_train, y_train), (x_test, y_test) = mnist.load_data()"
   ]
  },
  {
   "cell_type": "code",
   "execution_count": 2,
   "id": "32c5642b",
   "metadata": {},
   "outputs": [],
   "source": [
    "# Scale the pixel values to be between 0 and 1 and reshape\n",
    "x_train = x_train.reshape(-1, 28, 28, 1).astype(\"float32\") / 255.0\n",
    "x_test = x_test.reshape(-1, 28, 28, 1).astype(\"float32\") / 255.0\n",
    "# Split data into 90% training and 10% validation sets\n",
    "split = int(0.9 * len(x_train))\n",
    "x_train, x_valid = x_train[:split], x_train[split:]\n",
    "y_train, y_valid = y_train[:split], y_train[split:]"
   ]
  },
  {
   "cell_type": "code",
   "execution_count": 3,
   "id": "57afe8af",
   "metadata": {},
   "outputs": [],
   "source": [
    "# Define Custom model architecture\n",
    "model = keras.Sequential(\n",
    "    [\n",
    "        layers.Conv2D(32, kernel_size=(3, 3), activation=\"relu\", input_shape=(28, 28, 1)),\n",
    "        layers.MaxPooling2D(pool_size=(2, 2)),\n",
    "        layers.Conv2D(64, kernel_size=(3, 3), activation=\"relu\"),\n",
    "        layers.MaxPooling2D(pool_size=(2, 2)),\n",
    "        layers.Flatten(),\n",
    "        layers.Dense(128, activation=\"relu\"),\n",
    "        layers.Dense(10, activation=\"softmax\"),\n",
    "    ]\n",
    ")\n",
    "\n",
    "# Compile the model\n",
    "model.compile(loss=\"sparse_categorical_crossentropy\", optimizer=\"adam\", metrics=[\"accuracy\"])"
   ]
  },
  {
   "cell_type": "code",
   "execution_count": 4,
   "id": "5f6a0cad",
   "metadata": {},
   "outputs": [],
   "source": [
    "# Define tensorboard logs directory\n",
    "log_dir = \"C:/Users/kstre_3ikvnbf/CS 4375/Project/MnistCustom\"\n",
    "tensorboard_callback = tf.keras.callbacks.TensorBoard(log_dir=log_dir, histogram_freq=1)"
   ]
  },
  {
   "cell_type": "code",
   "execution_count": 5,
   "id": "fb9a7b73",
   "metadata": {},
   "outputs": [
    {
     "name": "stdout",
     "output_type": "stream",
     "text": [
      "Epoch 1/30\n",
      "1688/1688 [==============================] - 126s 69ms/step - loss: 0.1384 - accuracy: 0.9574 - val_loss: 0.0663 - val_accuracy: 0.9812\n",
      "Epoch 2/30\n",
      "1688/1688 [==============================] - 108s 64ms/step - loss: 0.0464 - accuracy: 0.9854 - val_loss: 0.0448 - val_accuracy: 0.9872\n",
      "Epoch 3/30\n",
      "1688/1688 [==============================] - 108s 64ms/step - loss: 0.0309 - accuracy: 0.9910 - val_loss: 0.0329 - val_accuracy: 0.9917\n",
      "Epoch 4/30\n",
      "1688/1688 [==============================] - 106s 63ms/step - loss: 0.0224 - accuracy: 0.9924 - val_loss: 0.0331 - val_accuracy: 0.9923\n",
      "Epoch 5/30\n",
      "1688/1688 [==============================] - 114s 67ms/step - loss: 0.0178 - accuracy: 0.9938 - val_loss: 0.0335 - val_accuracy: 0.9913\n",
      "Epoch 6/30\n",
      "1688/1688 [==============================] - 108s 64ms/step - loss: 0.0122 - accuracy: 0.9962 - val_loss: 0.0430 - val_accuracy: 0.9892\n",
      "Epoch 7/30\n",
      "1688/1688 [==============================] - 103s 61ms/step - loss: 0.0106 - accuracy: 0.9965 - val_loss: 0.0420 - val_accuracy: 0.9902\n",
      "Epoch 8/30\n",
      "1688/1688 [==============================] - 117s 70ms/step - loss: 0.0095 - accuracy: 0.9969 - val_loss: 0.0374 - val_accuracy: 0.9922\n",
      "Epoch 9/30\n",
      "1688/1688 [==============================] - 115s 68ms/step - loss: 0.0061 - accuracy: 0.9981 - val_loss: 0.0415 - val_accuracy: 0.9912\n",
      "Epoch 10/30\n",
      "1688/1688 [==============================] - 93s 55ms/step - loss: 0.0066 - accuracy: 0.9977 - val_loss: 0.0572 - val_accuracy: 0.9895\n",
      "Epoch 11/30\n",
      "1688/1688 [==============================] - 98s 58ms/step - loss: 0.0071 - accuracy: 0.9975 - val_loss: 0.0482 - val_accuracy: 0.9910\n",
      "Epoch 12/30\n",
      "1688/1688 [==============================] - 96s 57ms/step - loss: 0.0037 - accuracy: 0.9989 - val_loss: 0.0499 - val_accuracy: 0.9917\n",
      "Epoch 13/30\n",
      "1688/1688 [==============================] - 78s 47ms/step - loss: 0.0049 - accuracy: 0.9984 - val_loss: 0.0646 - val_accuracy: 0.9912\n",
      "Epoch 14/30\n",
      "1688/1688 [==============================] - 101s 60ms/step - loss: 0.0058 - accuracy: 0.9983 - val_loss: 0.0597 - val_accuracy: 0.9900\n",
      "Epoch 15/30\n",
      "1688/1688 [==============================] - 94s 56ms/step - loss: 0.0048 - accuracy: 0.9984 - val_loss: 0.0455 - val_accuracy: 0.9942\n",
      "Epoch 16/30\n",
      "1688/1688 [==============================] - 94s 56ms/step - loss: 0.0036 - accuracy: 0.9989 - val_loss: 0.0540 - val_accuracy: 0.9927\n",
      "Epoch 17/30\n",
      "1688/1688 [==============================] - 108s 64ms/step - loss: 0.0055 - accuracy: 0.9983 - val_loss: 0.0593 - val_accuracy: 0.9915\n",
      "Epoch 18/30\n",
      "1688/1688 [==============================] - 105s 62ms/step - loss: 0.0027 - accuracy: 0.9991 - val_loss: 0.0600 - val_accuracy: 0.9915\n",
      "Epoch 19/30\n",
      "1688/1688 [==============================] - 106s 63ms/step - loss: 0.0033 - accuracy: 0.9989 - val_loss: 0.0654 - val_accuracy: 0.9905\n",
      "Epoch 20/30\n",
      "1688/1688 [==============================] - 96s 57ms/step - loss: 0.0044 - accuracy: 0.9987 - val_loss: 0.0530 - val_accuracy: 0.9915\n",
      "Epoch 21/30\n",
      "1688/1688 [==============================] - 84s 50ms/step - loss: 0.0016 - accuracy: 0.9995 - val_loss: 0.0698 - val_accuracy: 0.9912\n",
      "Epoch 22/30\n",
      "1688/1688 [==============================] - 72s 43ms/step - loss: 0.0049 - accuracy: 0.9985 - val_loss: 0.0701 - val_accuracy: 0.9917\n",
      "Epoch 23/30\n",
      "1688/1688 [==============================] - 73s 43ms/step - loss: 0.0022 - accuracy: 0.9993 - val_loss: 0.0606 - val_accuracy: 0.9912\n",
      "Epoch 24/30\n",
      "1688/1688 [==============================] - 75s 44ms/step - loss: 0.0019 - accuracy: 0.9994 - val_loss: 0.0635 - val_accuracy: 0.9922\n",
      "Epoch 25/30\n",
      "1688/1688 [==============================] - 70s 41ms/step - loss: 0.0041 - accuracy: 0.9989 - val_loss: 0.0531 - val_accuracy: 0.9923\n",
      "Epoch 26/30\n",
      "1688/1688 [==============================] - 67s 40ms/step - loss: 0.0026 - accuracy: 0.9992 - val_loss: 0.0686 - val_accuracy: 0.9922\n",
      "Epoch 27/30\n",
      "1688/1688 [==============================] - 78s 46ms/step - loss: 0.0031 - accuracy: 0.9990 - val_loss: 0.0577 - val_accuracy: 0.9923\n",
      "Epoch 28/30\n",
      "1688/1688 [==============================] - 103s 61ms/step - loss: 0.0017 - accuracy: 0.9994 - val_loss: 0.0832 - val_accuracy: 0.9907\n",
      "Epoch 29/30\n",
      "1688/1688 [==============================] - 97s 57ms/step - loss: 0.0024 - accuracy: 0.9993 - val_loss: 0.0805 - val_accuracy: 0.9915\n",
      "Epoch 30/30\n",
      "1688/1688 [==============================] - 63s 37ms/step - loss: 0.0039 - accuracy: 0.9988 - val_loss: 0.0664 - val_accuracy: 0.9917\n"
     ]
    },
    {
     "data": {
      "text/plain": [
       "<keras.callbacks.History at 0x14953c33dc0>"
      ]
     },
     "execution_count": 5,
     "metadata": {},
     "output_type": "execute_result"
    }
   ],
   "source": [
    "# Train the model\n",
    "model.fit(x_train, y_train, batch_size=32, epochs=30, validation_data=(x_valid, y_valid), callbacks=[tensorboard_callback])"
   ]
  },
  {
   "cell_type": "code",
   "execution_count": 7,
   "id": "b9fddc2a",
   "metadata": {},
   "outputs": [
    {
     "name": "stdout",
     "output_type": "stream",
     "text": [
      "313/313 [==============================] - 2s 6ms/step - loss: 0.0578 - accuracy: 0.9908\n",
      "313/313 [==============================] - 3s 10ms/step\n"
     ]
    }
   ],
   "source": [
    "# Evaluate the model on the test set\n",
    "test_loss, test_acc = model.evaluate(x_test, y_test)\n",
    "\n",
    "# Generate predictions on the test set\n",
    "y_pred = model.predict(x_test)\n",
    "\n",
    "# Convert predicted probabilities to predicted class labels\n",
    "y_pred_classes = np.argmax(y_pred, axis=1)"
   ]
  },
  {
   "cell_type": "code",
   "execution_count": 8,
   "id": "450c5267",
   "metadata": {},
   "outputs": [
    {
     "name": "stdout",
     "output_type": "stream",
     "text": [
      "Test Loss: 0.05776825547218323\n",
      "Accuracy: 0.9908000230789185\n",
      "Confusion Matrix:\n",
      " [[ 978    0    0    0    0    0    1    1    0    0]\n",
      " [   0 1126    1    2    0    1    5    0    0    0]\n",
      " [   2    1 1015    1    1    0    1   10    1    0]\n",
      " [   0    0    0 1004    0    3    0    1    2    0]\n",
      " [   0    0    0    0  973    0    2    0    1    6]\n",
      " [   0    0    1    7    0  881    1    1    0    1]\n",
      " [   5    2    0    0    1    1  949    0    0    0]\n",
      " [   0    3    0    0    0    1    0 1021    0    3]\n",
      " [   4    1    0    1    0    1    0    0  967    0]\n",
      " [   0    1    0    1    3    3    0    5    2  994]]\n",
      "Precision: 0.990783103576997\n",
      "Recall: 0.990786242493817\n",
      "F1-score: 0.9907724942613649\n",
      "AU-ROC: 0.9999366417214752\n"
     ]
    }
   ],
   "source": [
    "# Compute evaluation metrics\n",
    "conf_matrix = confusion_matrix(y_test,y_pred_classes)\n",
    "precision = precision_score(y_test, y_pred_classes, average='macro')\n",
    "recall = recall_score(y_test, y_pred_classes, average='macro')\n",
    "f1score = f1_score(y_test, y_pred_classes, average='macro')\n",
    "auc_roc = roc_auc_score(y_test, y_pred, multi_class='ovr')\n",
    "\n",
    "# Print the evaluation metrics\n",
    "print(\"Test Loss:\", test_loss)\n",
    "print(\"Accuracy:\", test_acc)\n",
    "print(\"Confusion Matrix:\\n\", conf_matrix)\n",
    "print(\"Precision:\", precision)\n",
    "print(\"Recall:\", recall)\n",
    "print(\"F1-score:\", f1score)\n",
    "print(\"AU-ROC:\", auc_roc)"
   ]
  },
  {
   "cell_type": "code",
   "execution_count": 9,
   "id": "7c8bc88f",
   "metadata": {},
   "outputs": [],
   "source": [
    "# Log evaluation metrics to TensorBoard\n",
    "test_writer = tf.summary.create_file_writer(log_dir)\n",
    "with test_writer.as_default():\n",
    "    tf.summary.scalar('Accuracy', test_acc, step=0)\n",
    "    tf.summary.scalar('Precision', precision, step=0)\n",
    "    tf.summary.scalar('Recall', recall, step=0)\n",
    "    tf.summary.scalar('F1-score', f1score, step=0)\n",
    "    tf.summary.scalar('AU-ROC', auc_roc, step=0)"
   ]
  },
  {
   "cell_type": "code",
   "execution_count": null,
   "id": "86fe2cb7",
   "metadata": {},
   "outputs": [],
   "source": [
    "# tensorboard --logdir_spec=FashionMLP:\"C:/Users/kstre_3ikvnbf/CS 4375/Project/FashionMLP\",FashionLeNet:\"C:/Users/kstre_3ikvnbf/CS 4375/Project/FashionLeNet\",FashionCustom:\"C:/Users/kstre_3ikvnbf/CS 4375/Project/FashionCustom\",MnistLeNet:\"C:/Users/kstre_3ikvnbf/CS 4375/Project/MnistLeNet\",MnistMLP:\"C:/Users/kstre_3ikvnbf/CS 4375/Project/MnistMLP\",MnistCustom:\"C:/Users/kstre_3ikvnbf/CS 4375/Project/MnistCustom\""
   ]
  }
 ],
 "metadata": {
  "kernelspec": {
   "display_name": "Python 3 (ipykernel)",
   "language": "python",
   "name": "python3"
  },
  "language_info": {
   "codemirror_mode": {
    "name": "ipython",
    "version": 3
   },
   "file_extension": ".py",
   "mimetype": "text/x-python",
   "name": "python",
   "nbconvert_exporter": "python",
   "pygments_lexer": "ipython3",
   "version": "3.9.12"
  }
 },
 "nbformat": 4,
 "nbformat_minor": 5
}
