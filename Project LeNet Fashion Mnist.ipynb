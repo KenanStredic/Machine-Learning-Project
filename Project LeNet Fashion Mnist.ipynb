{
 "cells": [
  {
   "cell_type": "code",
   "execution_count": 1,
   "id": "93742dd0",
   "metadata": {},
   "outputs": [],
   "source": [
    "import numpy as np\n",
    "import tensorflow as tf\n",
    "from tensorflow import keras\n",
    "from tensorflow.keras.datasets import fashion_mnist\n",
    "from tensorflow.keras.callbacks import TensorBoard\n",
    "from sklearn.metrics import confusion_matrix, precision_score, recall_score, f1_score, roc_auc_score\n",
    "\n",
    "# Load Fashion MNIST dataset\n",
    "(x_train, y_train), (x_test, y_test) = fashion_mnist.load_data()"
   ]
  },
  {
   "cell_type": "code",
   "execution_count": 2,
   "id": "f84430c2",
   "metadata": {},
   "outputs": [],
   "source": [
    "# Scale the pixel values to be between 0 and 1\n",
    "x_train = x_train.astype('float32') / 255.0\n",
    "x_test = x_test.astype('float32') / 255.0\n",
    "# Convert the labels to one-hot encoded vectors\n",
    "y_train = keras.utils.to_categorical(y_train, 10)\n",
    "y_test = keras.utils.to_categorical(y_test, 10)\n",
    "# Reshape\n",
    "x_train = x_train.reshape(x_train.shape[0], 28, 28, 1)\n",
    "x_test = x_test.reshape(x_test.shape[0], 28, 28, 1)\n",
    "# Split data into 90% training and 10% validation sets\n",
    "split = int(0.9 * len(x_train))\n",
    "x_train, x_val = x_train[:split], x_train[split:]\n",
    "y_train, y_val = y_train[:split], y_train[split:]"
   ]
  },
  {
   "cell_type": "code",
   "execution_count": 4,
   "id": "ed662b19",
   "metadata": {},
   "outputs": [],
   "source": [
    "# Define LeNet model architecture\n",
    "model = keras.Sequential([\n",
    "    keras.layers.Conv2D(filters=6, kernel_size=(5, 5), activation='relu', input_shape=(28, 28, 1)),\n",
    "    keras.layers.MaxPooling2D(pool_size=(2, 2)),\n",
    "    keras.layers.Conv2D(filters=16, kernel_size=(5, 5), activation='relu'),\n",
    "    keras.layers.MaxPooling2D(pool_size=(2, 2)),\n",
    "    keras.layers.Flatten(),\n",
    "    keras.layers.Dense(units=120, activation='relu'),\n",
    "    keras.layers.Dense(units=84, activation='relu'),\n",
    "    keras.layers.Dense(units=10, activation='softmax')\n",
    "])\n",
    "\n",
    "# Compile the model\n",
    "model.compile(optimizer='adam', loss='categorical_crossentropy', metrics=['accuracy'])"
   ]
  },
  {
   "cell_type": "code",
   "execution_count": 5,
   "id": "f306f0ae",
   "metadata": {},
   "outputs": [],
   "source": [
    "# Define tensorboard logs directory\n",
    "log_dir=\"C:/Users/kstre_3ikvnbf/CS 4375/Project/FashionLeNet\"\n",
    "tensorboard = TensorBoard(log_dir=log_dir, histogram_freq=1, write_graph=True, write_images=False)"
   ]
  },
  {
   "cell_type": "code",
   "execution_count": 6,
   "id": "ab325f69",
   "metadata": {},
   "outputs": [
    {
     "name": "stdout",
     "output_type": "stream",
     "text": [
      "Epoch 1/30\n",
      "422/422 [==============================] - 23s 48ms/step - loss: 0.6926 - accuracy: 0.7560 - val_loss: 0.4933 - val_accuracy: 0.8267\n",
      "Epoch 2/30\n",
      "422/422 [==============================] - 19s 44ms/step - loss: 0.4408 - accuracy: 0.8415 - val_loss: 0.4090 - val_accuracy: 0.8498\n",
      "Epoch 3/30\n",
      "422/422 [==============================] - 21s 49ms/step - loss: 0.3844 - accuracy: 0.8623 - val_loss: 0.3926 - val_accuracy: 0.8612\n",
      "Epoch 4/30\n",
      "422/422 [==============================] - 24s 57ms/step - loss: 0.3495 - accuracy: 0.8722 - val_loss: 0.3396 - val_accuracy: 0.8777\n",
      "Epoch 5/30\n",
      "422/422 [==============================] - 20s 47ms/step - loss: 0.3253 - accuracy: 0.8810 - val_loss: 0.3256 - val_accuracy: 0.8807\n",
      "Epoch 6/30\n",
      "422/422 [==============================] - 31s 74ms/step - loss: 0.3091 - accuracy: 0.8877 - val_loss: 0.3312 - val_accuracy: 0.8765\n",
      "Epoch 7/30\n",
      "422/422 [==============================] - 39s 93ms/step - loss: 0.2895 - accuracy: 0.8929 - val_loss: 0.2989 - val_accuracy: 0.8890\n",
      "Epoch 8/30\n",
      "422/422 [==============================] - 29s 68ms/step - loss: 0.2745 - accuracy: 0.8995 - val_loss: 0.2894 - val_accuracy: 0.8927\n",
      "Epoch 9/30\n",
      "422/422 [==============================] - 21s 49ms/step - loss: 0.2644 - accuracy: 0.9020 - val_loss: 0.2847 - val_accuracy: 0.8950\n",
      "Epoch 10/30\n",
      "422/422 [==============================] - 20s 48ms/step - loss: 0.2530 - accuracy: 0.9061 - val_loss: 0.2859 - val_accuracy: 0.8978\n",
      "Epoch 11/30\n",
      "422/422 [==============================] - 28s 67ms/step - loss: 0.2426 - accuracy: 0.9103 - val_loss: 0.2794 - val_accuracy: 0.8993\n",
      "Epoch 12/30\n",
      "422/422 [==============================] - 29s 69ms/step - loss: 0.2371 - accuracy: 0.9126 - val_loss: 0.2797 - val_accuracy: 0.8972\n",
      "Epoch 13/30\n",
      "422/422 [==============================] - 24s 57ms/step - loss: 0.2330 - accuracy: 0.9132 - val_loss: 0.2831 - val_accuracy: 0.8987\n",
      "Epoch 14/30\n",
      "422/422 [==============================] - 26s 62ms/step - loss: 0.2226 - accuracy: 0.9184 - val_loss: 0.2657 - val_accuracy: 0.9002\n",
      "Epoch 15/30\n",
      "422/422 [==============================] - 22s 53ms/step - loss: 0.2136 - accuracy: 0.9201 - val_loss: 0.2880 - val_accuracy: 0.8968\n",
      "Epoch 16/30\n",
      "422/422 [==============================] - 26s 62ms/step - loss: 0.2075 - accuracy: 0.9221 - val_loss: 0.2784 - val_accuracy: 0.9038\n",
      "Epoch 17/30\n",
      "422/422 [==============================] - 26s 61ms/step - loss: 0.2018 - accuracy: 0.9246 - val_loss: 0.2721 - val_accuracy: 0.9008\n",
      "Epoch 18/30\n",
      "422/422 [==============================] - 20s 47ms/step - loss: 0.1947 - accuracy: 0.9272 - val_loss: 0.2904 - val_accuracy: 0.8983\n",
      "Epoch 19/30\n",
      "422/422 [==============================] - 20s 47ms/step - loss: 0.1909 - accuracy: 0.9279 - val_loss: 0.2671 - val_accuracy: 0.9028\n",
      "Epoch 20/30\n",
      "422/422 [==============================] - 22s 52ms/step - loss: 0.1833 - accuracy: 0.9314 - val_loss: 0.2772 - val_accuracy: 0.9007\n",
      "Epoch 21/30\n",
      "422/422 [==============================] - 23s 54ms/step - loss: 0.1782 - accuracy: 0.9330 - val_loss: 0.2768 - val_accuracy: 0.9020\n",
      "Epoch 22/30\n",
      "422/422 [==============================] - 21s 51ms/step - loss: 0.1734 - accuracy: 0.9346 - val_loss: 0.2830 - val_accuracy: 0.9020\n",
      "Epoch 23/30\n",
      "422/422 [==============================] - 21s 50ms/step - loss: 0.1695 - accuracy: 0.9362 - val_loss: 0.2980 - val_accuracy: 0.8965\n",
      "Epoch 24/30\n",
      "422/422 [==============================] - 23s 54ms/step - loss: 0.1614 - accuracy: 0.9401 - val_loss: 0.2793 - val_accuracy: 0.9037\n",
      "Epoch 25/30\n",
      "422/422 [==============================] - 26s 62ms/step - loss: 0.1578 - accuracy: 0.9403 - val_loss: 0.2917 - val_accuracy: 0.8997\n",
      "Epoch 26/30\n",
      "422/422 [==============================] - 30s 72ms/step - loss: 0.1515 - accuracy: 0.9435 - val_loss: 0.2976 - val_accuracy: 0.9037\n",
      "Epoch 27/30\n",
      "422/422 [==============================] - 25s 60ms/step - loss: 0.1488 - accuracy: 0.9442 - val_loss: 0.3192 - val_accuracy: 0.8987\n",
      "Epoch 28/30\n",
      "422/422 [==============================] - 21s 50ms/step - loss: 0.1432 - accuracy: 0.9459 - val_loss: 0.3059 - val_accuracy: 0.9000\n",
      "Epoch 29/30\n",
      "422/422 [==============================] - 23s 54ms/step - loss: 0.1383 - accuracy: 0.9484 - val_loss: 0.3001 - val_accuracy: 0.9033\n",
      "Epoch 30/30\n",
      "422/422 [==============================] - 22s 52ms/step - loss: 0.1350 - accuracy: 0.9479 - val_loss: 0.3012 - val_accuracy: 0.9005\n"
     ]
    },
    {
     "data": {
      "text/plain": [
       "<keras.callbacks.History at 0x211003fcc70>"
      ]
     },
     "execution_count": 6,
     "metadata": {},
     "output_type": "execute_result"
    }
   ],
   "source": [
    "# Train the model\n",
    "model.fit(x_train, y_train, epochs=30, batch_size=128, validation_data=(x_val, y_val), callbacks=[tensorboard])"
   ]
  },
  {
   "cell_type": "code",
   "execution_count": 7,
   "id": "3428675f",
   "metadata": {},
   "outputs": [
    {
     "name": "stdout",
     "output_type": "stream",
     "text": [
      "313/313 [==============================] - 5s 14ms/step - loss: 0.3201 - accuracy: 0.9029\n",
      "313/313 [==============================] - 5s 11ms/step\n"
     ]
    }
   ],
   "source": [
    "# Evaluate the model on the test set\n",
    "test_loss, test_acc = model.evaluate(x_test, y_test)\n",
    "\n",
    "# Generate predictions on the test set\n",
    "y_pred = model.predict(x_test)\n",
    "\n",
    "# Convert predicted probabilities to predicted class labels\n",
    "y_pred_classes = np.argmax(y_pred, axis=1)\n",
    "\n",
    "# Convert true labels to one-hot encoding\n",
    "y_true = np.argmax(y_test, axis=1)"
   ]
  },
  {
   "cell_type": "code",
   "execution_count": 8,
   "id": "01180009",
   "metadata": {},
   "outputs": [
    {
     "name": "stdout",
     "output_type": "stream",
     "text": [
      "Test Loss: 0.32006314396858215\n",
      "Accuracy: 0.902899980545044\n",
      "Confusion Matrix:\n",
      " [[820   0  26  36   5   1  97   0  15   0]\n",
      " [  0 976   1  15   3   0   3   0   2   0]\n",
      " [ 14   3 869  10  60   0  41   0   3   0]\n",
      " [  4   4  12 933  31   0  14   0   2   0]\n",
      " [  0   0  63  32 864   0  41   0   0   0]\n",
      " [  0   0   0   2   0 967   0  20   1  10]\n",
      " [ 83   0  82  45  95   0 681   0  14   0]\n",
      " [  0   0   0   0   0  13   0 971   0  16]\n",
      " [  1   0   4   5   2   2   2   2 981   1]\n",
      " [  1   0   0   0   0   4   0  28   0 967]]\n",
      "Precision: 0.9026010679309644\n",
      "Recall: 0.9029\n",
      "F1-score: 0.9020184987635108\n",
      "AU-ROC: 0.9927512833333333\n"
     ]
    }
   ],
   "source": [
    "# Compute evaluation metrics\n",
    "conf_matrix = confusion_matrix(y_true, y_pred_classes)\n",
    "precision = precision_score(y_true, y_pred_classes, average='macro')\n",
    "recall = recall_score(y_true, y_pred_classes, average='macro')\n",
    "f1score = f1_score(y_true, y_pred_classes, average='macro')\n",
    "auc_roc = roc_auc_score(y_test, y_pred, multi_class='ovr')\n",
    "\n",
    "# Print the evaluation metrics\n",
    "print(\"Test Loss:\", test_loss)\n",
    "print(\"Accuracy:\", test_acc)\n",
    "print(\"Confusion Matrix:\\n\", conf_matrix)\n",
    "print(\"Precision:\", precision)\n",
    "print(\"Recall:\", recall)\n",
    "print(\"F1-score:\", f1score)\n",
    "print(\"AU-ROC:\", auc_roc)"
   ]
  },
  {
   "cell_type": "code",
   "execution_count": 9,
   "id": "ce28c05d",
   "metadata": {},
   "outputs": [],
   "source": [
    "# Log evaluation metrics to TensorBoard\n",
    "test_writer = tf.summary.create_file_writer(log_dir)\n",
    "with test_writer.as_default():\n",
    "    tf.summary.scalar('Accuracy', test_acc, step=0)\n",
    "    tf.summary.scalar('Precision', precision, step=0)\n",
    "    tf.summary.scalar('Recall', recall, step=0)\n",
    "    tf.summary.scalar('F1-score', f1score, step=0)\n",
    "    tf.summary.scalar('AU-ROC', auc_roc, step=0)"
   ]
  },
  {
   "cell_type": "code",
   "execution_count": 10,
   "id": "62a599c7",
   "metadata": {},
   "outputs": [],
   "source": [
    "# tensorboard --logdir_spec=FashionMLP:\"C:/Users/kstre_3ikvnbf/CS 4375/Project/FashionMLP\",FashionLeNet:\"C:/Users/kstre_3ikvnbf/CS 4375/Project/FashionLeNet\",MnistLeNet:\"C:/Users/kstre_3ikvnbf/CS 4375/Project/MnistLeNet\",MnistMLP:\"C:/Users/kstre_3ikvnbf/CS 4375/Project/MnistMLP\""
   ]
  }
 ],
 "metadata": {
  "kernelspec": {
   "display_name": "Python 3 (ipykernel)",
   "language": "python",
   "name": "python3"
  },
  "language_info": {
   "codemirror_mode": {
    "name": "ipython",
    "version": 3
   },
   "file_extension": ".py",
   "mimetype": "text/x-python",
   "name": "python",
   "nbconvert_exporter": "python",
   "pygments_lexer": "ipython3",
   "version": "3.9.12"
  }
 },
 "nbformat": 4,
 "nbformat_minor": 5
}
