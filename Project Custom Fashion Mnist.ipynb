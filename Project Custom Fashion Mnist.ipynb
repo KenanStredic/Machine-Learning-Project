{
 "cells": [
  {
   "cell_type": "code",
   "execution_count": 1,
   "id": "88ba0b4c",
   "metadata": {},
   "outputs": [],
   "source": [
    "import numpy as np\n",
    "import tensorflow as tf\n",
    "from tensorflow import keras\n",
    "from tensorflow.keras import layers\n",
    "from tensorflow.keras.datasets import fashion_mnist\n",
    "from tensorflow.keras.preprocessing.image import ImageDataGenerator\n",
    "from sklearn.metrics import confusion_matrix, precision_score, recall_score, f1_score, roc_auc_score\n",
    "import datetime\n",
    "\n",
    "# Load Fashion MNIST dataset\n",
    "(x_train, y_train), (x_test, y_test) = fashion_mnist.load_data()"
   ]
  },
  {
   "cell_type": "code",
   "execution_count": 2,
   "id": "6046213e",
   "metadata": {},
   "outputs": [],
   "source": [
    "# # Scale the pixel values to be between 0 and 1 and reshape\n",
    "x_train = x_train.reshape(-1, 28, 28, 1).astype(\"float32\") / 255.0\n",
    "x_test = x_test.reshape(-1, 28, 28, 1).astype(\"float32\") / 255.0\n",
    "# Split data into 90% training and 10% validation sets\n",
    "split = int(0.9 * len(x_train))\n",
    "x_train, x_valid = x_train[:split], x_train[split:]\n",
    "y_train, y_valid = y_train[:split], y_train[split:]"
   ]
  },
  {
   "cell_type": "code",
   "execution_count": 3,
   "id": "e95ccf89",
   "metadata": {},
   "outputs": [],
   "source": [
    "# Define Custom model architecture\n",
    "model = keras.Sequential(\n",
    "    [\n",
    "        layers.Conv2D(32, kernel_size=(3, 3), activation=\"relu\", input_shape=(28, 28, 1)),\n",
    "        layers.MaxPooling2D(pool_size=(2, 2)),\n",
    "        layers.Conv2D(64, kernel_size=(3, 3), activation=\"relu\"),\n",
    "        layers.MaxPooling2D(pool_size=(2, 2)),\n",
    "        layers.Flatten(),\n",
    "        layers.Dense(128, activation=\"relu\"),\n",
    "        layers.Dense(10, activation=\"softmax\"),\n",
    "    ]\n",
    ")\n",
    "\n",
    "# Compile the model\n",
    "model.compile(loss=\"sparse_categorical_crossentropy\", optimizer=\"adam\", metrics=[\"accuracy\"])"
   ]
  },
  {
   "cell_type": "code",
   "execution_count": 4,
   "id": "41b9ddd6",
   "metadata": {},
   "outputs": [],
   "source": [
    "# Define tensorboard logs directory\n",
    "log_dir = \"C:/Users/kstre_3ikvnbf/CS 4375/Project/FashionCustom\"\n",
    "tensorboard_callback = tf.keras.callbacks.TensorBoard(log_dir=log_dir, histogram_freq=1)"
   ]
  },
  {
   "cell_type": "code",
   "execution_count": 5,
   "id": "7a0b98d9",
   "metadata": {},
   "outputs": [
    {
     "name": "stdout",
     "output_type": "stream",
     "text": [
      "Epoch 1/30\n",
      "1688/1688 [==============================] - 70s 40ms/step - loss: 0.4556 - accuracy: 0.8320 - val_loss: 0.3343 - val_accuracy: 0.8797\n",
      "Epoch 2/30\n",
      "1688/1688 [==============================] - 105s 62ms/step - loss: 0.3085 - accuracy: 0.8869 - val_loss: 0.3000 - val_accuracy: 0.8865\n",
      "Epoch 3/30\n",
      "1688/1688 [==============================] - 105s 62ms/step - loss: 0.2585 - accuracy: 0.9047 - val_loss: 0.2833 - val_accuracy: 0.8972\n",
      "Epoch 4/30\n",
      "1688/1688 [==============================] - 109s 64ms/step - loss: 0.2270 - accuracy: 0.9164 - val_loss: 0.2719 - val_accuracy: 0.9027\n",
      "Epoch 5/30\n",
      "1688/1688 [==============================] - 108s 64ms/step - loss: 0.2004 - accuracy: 0.9245 - val_loss: 0.2467 - val_accuracy: 0.9070\n",
      "Epoch 6/30\n",
      "1688/1688 [==============================] - 112s 66ms/step - loss: 0.1785 - accuracy: 0.9336 - val_loss: 0.2481 - val_accuracy: 0.9103\n",
      "Epoch 7/30\n",
      "1688/1688 [==============================] - 112s 66ms/step - loss: 0.1554 - accuracy: 0.9420 - val_loss: 0.2318 - val_accuracy: 0.9157\n",
      "Epoch 8/30\n",
      "1688/1688 [==============================] - 106s 63ms/step - loss: 0.1362 - accuracy: 0.9494 - val_loss: 0.2458 - val_accuracy: 0.9130\n",
      "Epoch 9/30\n",
      "1688/1688 [==============================] - 115s 68ms/step - loss: 0.1208 - accuracy: 0.9548 - val_loss: 0.2588 - val_accuracy: 0.9160\n",
      "Epoch 10/30\n",
      "1688/1688 [==============================] - 116s 69ms/step - loss: 0.1054 - accuracy: 0.9606 - val_loss: 0.2837 - val_accuracy: 0.9097\n",
      "Epoch 11/30\n",
      "1688/1688 [==============================] - 101s 60ms/step - loss: 0.0909 - accuracy: 0.9660 - val_loss: 0.3035 - val_accuracy: 0.9108\n",
      "Epoch 12/30\n",
      "1688/1688 [==============================] - 97s 57ms/step - loss: 0.0819 - accuracy: 0.9695 - val_loss: 0.3056 - val_accuracy: 0.9140\n",
      "Epoch 13/30\n",
      "1688/1688 [==============================] - 99s 59ms/step - loss: 0.0712 - accuracy: 0.9737 - val_loss: 0.3117 - val_accuracy: 0.9132\n",
      "Epoch 14/30\n",
      "1688/1688 [==============================] - 82s 48ms/step - loss: 0.0629 - accuracy: 0.9766 - val_loss: 0.3437 - val_accuracy: 0.9120\n",
      "Epoch 15/30\n",
      "1688/1688 [==============================] - 97s 58ms/step - loss: 0.0581 - accuracy: 0.9784 - val_loss: 0.3668 - val_accuracy: 0.9145\n",
      "Epoch 16/30\n",
      "1688/1688 [==============================] - 97s 57ms/step - loss: 0.0533 - accuracy: 0.9797 - val_loss: 0.3758 - val_accuracy: 0.9117\n",
      "Epoch 17/30\n",
      "1688/1688 [==============================] - 94s 56ms/step - loss: 0.0457 - accuracy: 0.9826 - val_loss: 0.4015 - val_accuracy: 0.9138\n",
      "Epoch 18/30\n",
      "1688/1688 [==============================] - 107s 63ms/step - loss: 0.0440 - accuracy: 0.9836 - val_loss: 0.4136 - val_accuracy: 0.9130\n",
      "Epoch 19/30\n",
      "1688/1688 [==============================] - 105s 62ms/step - loss: 0.0379 - accuracy: 0.9857 - val_loss: 0.4398 - val_accuracy: 0.9083\n",
      "Epoch 20/30\n",
      "1688/1688 [==============================] - 110s 65ms/step - loss: 0.0374 - accuracy: 0.9856 - val_loss: 0.4620 - val_accuracy: 0.9097\n",
      "Epoch 21/30\n",
      "1688/1688 [==============================] - 98s 58ms/step - loss: 0.0335 - accuracy: 0.9873 - val_loss: 0.5179 - val_accuracy: 0.9040\n",
      "Epoch 22/30\n",
      "1688/1688 [==============================] - 86s 51ms/step - loss: 0.0320 - accuracy: 0.9885 - val_loss: 0.4988 - val_accuracy: 0.9097\n",
      "Epoch 23/30\n",
      "1688/1688 [==============================] - 73s 43ms/step - loss: 0.0309 - accuracy: 0.9889 - val_loss: 0.5342 - val_accuracy: 0.9117\n",
      "Epoch 24/30\n",
      "1688/1688 [==============================] - 74s 44ms/step - loss: 0.0306 - accuracy: 0.9891 - val_loss: 0.5182 - val_accuracy: 0.9102\n",
      "Epoch 25/30\n",
      "1688/1688 [==============================] - 74s 44ms/step - loss: 0.0277 - accuracy: 0.9902 - val_loss: 0.5756 - val_accuracy: 0.9087\n",
      "Epoch 26/30\n",
      "1688/1688 [==============================] - 72s 43ms/step - loss: 0.0220 - accuracy: 0.9918 - val_loss: 0.5618 - val_accuracy: 0.9120\n",
      "Epoch 27/30\n",
      "1688/1688 [==============================] - 66s 39ms/step - loss: 0.0278 - accuracy: 0.9900 - val_loss: 0.5263 - val_accuracy: 0.9105\n",
      "Epoch 28/30\n",
      "1688/1688 [==============================] - 80s 47ms/step - loss: 0.0254 - accuracy: 0.9906 - val_loss: 0.6259 - val_accuracy: 0.9108\n",
      "Epoch 29/30\n",
      "1688/1688 [==============================] - 99s 59ms/step - loss: 0.0260 - accuracy: 0.9907 - val_loss: 0.5959 - val_accuracy: 0.9138\n",
      "Epoch 30/30\n",
      "1688/1688 [==============================] - 101s 60ms/step - loss: 0.0267 - accuracy: 0.9910 - val_loss: 0.6081 - val_accuracy: 0.9122\n"
     ]
    },
    {
     "data": {
      "text/plain": [
       "<keras.callbacks.History at 0x1b44b82f700>"
      ]
     },
     "execution_count": 5,
     "metadata": {},
     "output_type": "execute_result"
    }
   ],
   "source": [
    "# Train the model\n",
    "model.fit(x_train, y_train, batch_size=32, epochs=30, validation_data=(x_valid, y_valid), callbacks=[tensorboard_callback])"
   ]
  },
  {
   "cell_type": "code",
   "execution_count": 6,
   "id": "f7788ed5",
   "metadata": {},
   "outputs": [
    {
     "name": "stdout",
     "output_type": "stream",
     "text": [
      "313/313 [==============================] - 7s 20ms/step - loss: 0.6792 - accuracy: 0.9040\n",
      "313/313 [==============================] - 9s 23ms/step\n"
     ]
    }
   ],
   "source": [
    "# Evaluate the model on the test set\n",
    "test_loss, test_acc = model.evaluate(x_test, y_test)\n",
    "\n",
    "# Generate predictions on the test set\n",
    "y_pred = model.predict(x_test)\n",
    "\n",
    "# Convert predicted probabilities to predicted class labels\n",
    "y_pred_classes = np.argmax(y_pred, axis=1)"
   ]
  },
  {
   "cell_type": "code",
   "execution_count": 7,
   "id": "1510c163",
   "metadata": {},
   "outputs": [
    {
     "name": "stdout",
     "output_type": "stream",
     "text": [
      "Test Loss: 0.6791559457778931\n",
      "Accuracy: 0.9039999842643738\n",
      "Confusion Matrix:\n",
      " [[875   0  14  17   3   2  85   0   3   1]\n",
      " [  2 981   0   7   4   0   4   0   2   0]\n",
      " [ 20   0 841   5  63   0  71   0   0   0]\n",
      " [ 17   9  20 851  57   0  41   0   4   1]\n",
      " [  3   0  36  15 885   0  59   0   2   0]\n",
      " [  0   0   0   0   0 972   0  13   0  15]\n",
      " [132   2  56  21  60   0 728   0   1   0]\n",
      " [  0   0   0   0   0  16   0 967   0  17]\n",
      " [  6   1   2   1   4   3   9   5 969   0]\n",
      " [  1   0   0   0   1   2   0  25   0 971]]\n",
      "Precision: 0.9052609615989275\n",
      "Recall: 0.9039999999999999\n",
      "F1-score: 0.9042480987688271\n",
      "AU-ROC: 0.9928051888888889\n"
     ]
    }
   ],
   "source": [
    "# Compute evaluation metrics\n",
    "conf_matrix = confusion_matrix(y_test, y_pred_classes)\n",
    "precision = precision_score(y_test, y_pred_classes, average='macro')\n",
    "recall = recall_score(y_test, y_pred_classes, average='macro')\n",
    "f1score = f1_score(y_test, y_pred_classes, average='macro')\n",
    "auc_roc = roc_auc_score(y_test, y_pred, multi_class='ovr')\n",
    "\n",
    "# Print the evaluation metrics\n",
    "print(\"Test Loss:\", test_loss)\n",
    "print(\"Accuracy:\", test_acc)\n",
    "print(\"Confusion Matrix:\\n\", conf_matrix)\n",
    "print(\"Precision:\", precision)\n",
    "print(\"Recall:\", recall)\n",
    "print(\"F1-score:\", f1score)\n",
    "print(\"AU-ROC:\", auc_roc)"
   ]
  },
  {
   "cell_type": "code",
   "execution_count": 8,
   "id": "22a69bfc",
   "metadata": {},
   "outputs": [],
   "source": [
    "# Log evaluation metrics to TensorBoard\n",
    "test_writer = tf.summary.create_file_writer(log_dir)\n",
    "with test_writer.as_default():\n",
    "    tf.summary.scalar('Accuracy', test_acc, step=0)\n",
    "    tf.summary.scalar('Precision', precision, step=0)\n",
    "    tf.summary.scalar('Recall', recall, step=0)\n",
    "    tf.summary.scalar('F1-score', f1score, step=0)\n",
    "    tf.summary.scalar('AU-ROC', auc_roc, step=0)"
   ]
  },
  {
   "cell_type": "code",
   "execution_count": 9,
   "id": "26502c73",
   "metadata": {},
   "outputs": [],
   "source": [
    "# tensorboard --logdir_spec=FashionMLP:\"C:/Users/kstre_3ikvnbf/CS 4375/Project/FashionMLP\",FashionLeNet:\"C:/Users/kstre_3ikvnbf/CS 4375/Project/FashionLeNet\",FashionCustom:\"C:/Users/kstre_3ikvnbf/CS 4375/Project/FashionCustom\",MnistLeNet:\"C:/Users/kstre_3ikvnbf/CS 4375/Project/MnistLeNet\",MnistMLP:\"C:/Users/kstre_3ikvnbf/CS 4375/Project/MnistMLP\",MnistCustom:\"C:/Users/kstre_3ikvnbf/CS 4375/Project/MnistCustom\""
   ]
  }
 ],
 "metadata": {
  "kernelspec": {
   "display_name": "Python 3 (ipykernel)",
   "language": "python",
   "name": "python3"
  },
  "language_info": {
   "codemirror_mode": {
    "name": "ipython",
    "version": 3
   },
   "file_extension": ".py",
   "mimetype": "text/x-python",
   "name": "python",
   "nbconvert_exporter": "python",
   "pygments_lexer": "ipython3",
   "version": "3.9.12"
  }
 },
 "nbformat": 4,
 "nbformat_minor": 5
}
