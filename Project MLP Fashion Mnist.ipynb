{
 "cells": [
  {
   "cell_type": "code",
   "execution_count": 1,
   "id": "37348af1",
   "metadata": {},
   "outputs": [],
   "source": [
    "import numpy as np\n",
    "import tensorflow as tf\n",
    "from tensorflow import keras\n",
    "from tensorflow.keras.datasets import fashion_mnist\n",
    "from tensorflow.keras.callbacks import TensorBoard\n",
    "from sklearn.metrics import confusion_matrix, precision_score, recall_score, f1_score, roc_auc_score\n",
    "\n",
    "# Load Fashion MNIST dataset\n",
    "(x_train, y_train), (x_test, y_test) = fashion_mnist.load_data()"
   ]
  },
  {
   "cell_type": "code",
   "execution_count": 2,
   "id": "93098812",
   "metadata": {},
   "outputs": [],
   "source": [
    "# Scale the pixel values to be between 0 and 1\n",
    "x_train = x_train.astype('float32') / 255.0\n",
    "x_test = x_test.astype('float32') / 255.0\n",
    "# Convert the labels to one-hot encoded vectors\n",
    "y_train = keras.utils.to_categorical(y_train, 10)\n",
    "y_test = keras.utils.to_categorical(y_test, 10)\n",
    "# Reshape\n",
    "x_train = x_train.reshape(x_train.shape[0], 784)\n",
    "x_test = x_test.reshape(x_test.shape[0], 784)\n",
    "# Split data into 90% training and 10% validation sets\n",
    "split = int(0.9 * len(x_train))\n",
    "x_train, x_val = x_train[:split], x_train[split:]\n",
    "y_train, y_val = y_train[:split], y_train[split:]"
   ]
  },
  {
   "cell_type": "code",
   "execution_count": 4,
   "id": "02497875",
   "metadata": {},
   "outputs": [],
   "source": [
    "# Define MLP model architecture\n",
    "model = keras.Sequential([\n",
    "    keras.layers.Dense(units=256, activation='relu', input_shape=(784,)),\n",
    "    keras.layers.Dense(units=128, activation='relu'),\n",
    "    keras.layers.Dense(units=10, activation='softmax')\n",
    "])\n",
    "\n",
    "model.compile(optimizer='adam', loss='categorical_crossentropy', metrics=['accuracy'])"
   ]
  },
  {
   "cell_type": "code",
   "execution_count": 5,
   "id": "8ada63c5",
   "metadata": {},
   "outputs": [],
   "source": [
    "# Define tensorboard logs directory\n",
    "log_dir=\"C:/Users/kstre_3ikvnbf/CS 4375/Project/FashionMLP\"\n",
    "tensorboard = TensorBoard(log_dir='C:/Users/kstre_3ikvnbf/CS 4375/Project/FashionMLP', histogram_freq=1, write_graph=True, write_images=False)"
   ]
  },
  {
   "cell_type": "code",
   "execution_count": 6,
   "id": "4d77ff2b",
   "metadata": {},
   "outputs": [
    {
     "name": "stdout",
     "output_type": "stream",
     "text": [
      "Epoch 1/30\n",
      "422/422 [==============================] - 8s 13ms/step - loss: 0.5287 - accuracy: 0.8129 - val_loss: 0.4005 - val_accuracy: 0.8545\n",
      "Epoch 2/30\n",
      "422/422 [==============================] - 4s 10ms/step - loss: 0.3778 - accuracy: 0.8647 - val_loss: 0.3589 - val_accuracy: 0.8673\n",
      "Epoch 3/30\n",
      "422/422 [==============================] - 4s 10ms/step - loss: 0.3298 - accuracy: 0.8790 - val_loss: 0.3504 - val_accuracy: 0.8742\n",
      "Epoch 4/30\n",
      "422/422 [==============================] - 5s 11ms/step - loss: 0.3051 - accuracy: 0.8880 - val_loss: 0.3341 - val_accuracy: 0.8713\n",
      "Epoch 5/30\n",
      "422/422 [==============================] - 8s 19ms/step - loss: 0.2849 - accuracy: 0.8954 - val_loss: 0.3148 - val_accuracy: 0.8827\n",
      "Epoch 6/30\n",
      "422/422 [==============================] - 6s 14ms/step - loss: 0.2743 - accuracy: 0.8988 - val_loss: 0.3167 - val_accuracy: 0.8837\n",
      "Epoch 7/30\n",
      "422/422 [==============================] - 5s 12ms/step - loss: 0.2578 - accuracy: 0.9034 - val_loss: 0.3271 - val_accuracy: 0.8812\n",
      "Epoch 8/30\n",
      "422/422 [==============================] - 4s 11ms/step - loss: 0.2489 - accuracy: 0.9066 - val_loss: 0.3358 - val_accuracy: 0.8803\n",
      "Epoch 9/30\n",
      "422/422 [==============================] - 6s 13ms/step - loss: 0.2382 - accuracy: 0.9105 - val_loss: 0.3036 - val_accuracy: 0.8890\n",
      "Epoch 10/30\n",
      "422/422 [==============================] - 5s 12ms/step - loss: 0.2281 - accuracy: 0.9155 - val_loss: 0.3160 - val_accuracy: 0.8885\n",
      "Epoch 11/30\n",
      "422/422 [==============================] - 6s 14ms/step - loss: 0.2220 - accuracy: 0.9163 - val_loss: 0.3130 - val_accuracy: 0.8895\n",
      "Epoch 12/30\n",
      "422/422 [==============================] - 5s 13ms/step - loss: 0.2126 - accuracy: 0.9204 - val_loss: 0.3130 - val_accuracy: 0.8907\n",
      "Epoch 13/30\n",
      "422/422 [==============================] - 5s 13ms/step - loss: 0.2033 - accuracy: 0.9242 - val_loss: 0.3180 - val_accuracy: 0.8928\n",
      "Epoch 14/30\n",
      "422/422 [==============================] - 6s 15ms/step - loss: 0.1977 - accuracy: 0.9258 - val_loss: 0.3294 - val_accuracy: 0.8850\n",
      "Epoch 15/30\n",
      "422/422 [==============================] - 5s 13ms/step - loss: 0.1896 - accuracy: 0.9292 - val_loss: 0.3309 - val_accuracy: 0.8867\n",
      "Epoch 16/30\n",
      "422/422 [==============================] - 4s 10ms/step - loss: 0.1821 - accuracy: 0.9314 - val_loss: 0.3275 - val_accuracy: 0.8903\n",
      "Epoch 17/30\n",
      "422/422 [==============================] - 4s 10ms/step - loss: 0.1760 - accuracy: 0.9340 - val_loss: 0.3666 - val_accuracy: 0.8785\n",
      "Epoch 18/30\n",
      "422/422 [==============================] - 5s 11ms/step - loss: 0.1704 - accuracy: 0.9357 - val_loss: 0.3581 - val_accuracy: 0.8893\n",
      "Epoch 19/30\n",
      "422/422 [==============================] - 5s 12ms/step - loss: 0.1630 - accuracy: 0.9384 - val_loss: 0.3350 - val_accuracy: 0.8927\n",
      "Epoch 20/30\n",
      "422/422 [==============================] - 4s 10ms/step - loss: 0.1604 - accuracy: 0.9401 - val_loss: 0.3371 - val_accuracy: 0.8922\n",
      "Epoch 21/30\n",
      "422/422 [==============================] - 4s 10ms/step - loss: 0.1538 - accuracy: 0.9430 - val_loss: 0.3472 - val_accuracy: 0.8910\n",
      "Epoch 22/30\n",
      "422/422 [==============================] - 5s 11ms/step - loss: 0.1468 - accuracy: 0.9443 - val_loss: 0.3471 - val_accuracy: 0.8897\n",
      "Epoch 23/30\n",
      "422/422 [==============================] - 4s 9ms/step - loss: 0.1462 - accuracy: 0.9457 - val_loss: 0.3844 - val_accuracy: 0.8853\n",
      "Epoch 24/30\n",
      "422/422 [==============================] - 5s 11ms/step - loss: 0.1442 - accuracy: 0.9456 - val_loss: 0.3609 - val_accuracy: 0.8882\n",
      "Epoch 25/30\n",
      "422/422 [==============================] - 5s 13ms/step - loss: 0.1340 - accuracy: 0.9501 - val_loss: 0.3496 - val_accuracy: 0.8962\n",
      "Epoch 26/30\n",
      "422/422 [==============================] - 8s 18ms/step - loss: 0.1312 - accuracy: 0.9506 - val_loss: 0.3595 - val_accuracy: 0.8950\n",
      "Epoch 27/30\n",
      "422/422 [==============================] - 9s 22ms/step - loss: 0.1296 - accuracy: 0.9519 - val_loss: 0.3758 - val_accuracy: 0.8947\n",
      "Epoch 28/30\n",
      "422/422 [==============================] - 5s 11ms/step - loss: 0.1224 - accuracy: 0.9538 - val_loss: 0.3855 - val_accuracy: 0.8952\n",
      "Epoch 29/30\n",
      "422/422 [==============================] - 5s 11ms/step - loss: 0.1164 - accuracy: 0.9558 - val_loss: 0.4289 - val_accuracy: 0.8878\n",
      "Epoch 30/30\n",
      "422/422 [==============================] - 5s 11ms/step - loss: 0.1156 - accuracy: 0.9562 - val_loss: 0.3964 - val_accuracy: 0.8905\n"
     ]
    },
    {
     "data": {
      "text/plain": [
       "<keras.callbacks.History at 0x1e9ed00f550>"
      ]
     },
     "execution_count": 6,
     "metadata": {},
     "output_type": "execute_result"
    }
   ],
   "source": [
    "# Train the model\n",
    "model.fit(x_train, y_train, epochs=30, batch_size=128, validation_data=(x_val, y_val), callbacks=[tensorboard])"
   ]
  },
  {
   "cell_type": "code",
   "execution_count": 11,
   "id": "76fa04aa",
   "metadata": {},
   "outputs": [
    {
     "name": "stdout",
     "output_type": "stream",
     "text": [
      "313/313 [==============================] - 2s 6ms/step - loss: 0.4242 - accuracy: 0.8909\n",
      "313/313 [==============================] - 1s 3ms/step\n"
     ]
    }
   ],
   "source": [
    "# Evaluate the model on the test set\n",
    "test_loss, test_acc = model.evaluate(x_test, y_test)\n",
    "\n",
    "# Generate predictions on the test set\n",
    "y_pred = model.predict(x_test)\n",
    "\n",
    "# Convert predicted probabilities to predicted class labels\n",
    "y_pred_classes = np.argmax(y_pred, axis=1)\n",
    "\n",
    "# Convert true labels to one-hot encoding\n",
    "y_true = np.argmax(y_test, axis=1)"
   ]
  },
  {
   "cell_type": "code",
   "execution_count": 8,
   "id": "9c381fde",
   "metadata": {},
   "outputs": [
    {
     "name": "stdout",
     "output_type": "stream",
     "text": [
      "Test Loss: 0.4242440462112427\n",
      "Accuracy: 0.8909000158309937\n",
      "Confusion Matrix:\n",
      " [[868   3  17  20   4   2  81   0   5   0]\n",
      " [  3 982   0   9   2   0   3   0   1   0]\n",
      " [ 19   1 852   9  70   0  48   0   1   0]\n",
      " [ 24  13  11 890  41   0  17   0   4   0]\n",
      " [  0   0 108  22 792   0  77   0   1   0]\n",
      " [  0   0   0   1   0 963   0  20   1  15]\n",
      " [121   0  99  29  47   1 696   0   7   0]\n",
      " [  0   0   0   0   0  13   0 979   1   7]\n",
      " [  5   0   6   5   5   4   7   3 965   0]\n",
      " [  0   0   0   1   0   7   1  69   0 922]]\n",
      "Precision: 0.8914492833855905\n",
      "Recall: 0.8909\n",
      "F1-score: 0.8906521077304161\n",
      "AU-ROC: 0.9905555611111112\n"
     ]
    }
   ],
   "source": [
    "# Compute evaluation metrics\n",
    "conf_matrix = confusion_matrix(y_true, y_pred_classes)\n",
    "precision = precision_score(y_true, y_pred_classes, average='macro')\n",
    "recall = recall_score(y_true, y_pred_classes, average='macro')\n",
    "f1score = f1_score(y_true, y_pred_classes, average='macro')\n",
    "auc_roc = roc_auc_score(y_test, y_pred, multi_class='ovr')\n",
    "\n",
    "# Print the evaluation metrics\n",
    "print(\"Test Loss:\", test_loss)\n",
    "print(\"Accuracy:\", test_acc)\n",
    "print(\"Confusion Matrix:\\n\", conf_matrix)\n",
    "print(\"Precision:\", precision)\n",
    "print(\"Recall:\", recall)\n",
    "print(\"F1-score:\", f1score)\n",
    "print(\"AU-ROC:\", auc_roc)"
   ]
  },
  {
   "cell_type": "code",
   "execution_count": 9,
   "id": "7ce20005",
   "metadata": {},
   "outputs": [],
   "source": [
    "# Log evaluation metrics to TensorBoard\n",
    "test_writer = tf.summary.create_file_writer(log_dir)\n",
    "with test_writer.as_default():\n",
    "    tf.summary.scalar('Accuracy', test_acc, step=0)\n",
    "    tf.summary.scalar('Precision', precision, step=0)\n",
    "    tf.summary.scalar('Recall', recall, step=0)\n",
    "    tf.summary.scalar('F1-score', f1score, step=0)\n",
    "    tf.summary.scalar('AU-ROC', auc_roc, step=0)"
   ]
  },
  {
   "cell_type": "code",
   "execution_count": 10,
   "id": "56917c44",
   "metadata": {},
   "outputs": [],
   "source": [
    "# tensorboard --logdir_spec=FashionMLP:\"C:/Users/kstre_3ikvnbf/CS 4375/Project/FashionMLP\",FashionLeNet:\"C:/Users/kstre_3ikvnbf/CS 4375/Project/FashionLeNet\",MnistLeNet:\"C:/Users/kstre_3ikvnbf/CS 4375/Project/MnistLeNet\",MnistMLP:\"C:/Users/kstre_3ikvnbf/CS 4375/Project/MnistMLP\""
   ]
  }
 ],
 "metadata": {
  "kernelspec": {
   "display_name": "Python 3 (ipykernel)",
   "language": "python",
   "name": "python3"
  },
  "language_info": {
   "codemirror_mode": {
    "name": "ipython",
    "version": 3
   },
   "file_extension": ".py",
   "mimetype": "text/x-python",
   "name": "python",
   "nbconvert_exporter": "python",
   "pygments_lexer": "ipython3",
   "version": "3.9.12"
  }
 },
 "nbformat": 4,
 "nbformat_minor": 5
}
