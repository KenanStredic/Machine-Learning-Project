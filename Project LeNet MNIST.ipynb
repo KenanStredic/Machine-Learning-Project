{
 "cells": [
  {
   "cell_type": "code",
   "execution_count": 1,
   "id": "9e0ca187",
   "metadata": {},
   "outputs": [],
   "source": [
    "import tensorflow as tf\n",
    "from tensorflow import keras\n",
    "from tensorflow.keras import layers\n",
    "import numpy as np\n",
    "import datetime\n",
    "from sklearn.metrics import confusion_matrix, precision_score, recall_score, f1_score, roc_auc_score\n",
    "\n",
    "# Load MNIST dataset\n",
    "(x_train, y_train), (x_test, y_test) = keras.datasets.mnist.load_data()"
   ]
  },
  {
   "cell_type": "code",
   "execution_count": 2,
   "id": "1e61de15",
   "metadata": {},
   "outputs": [],
   "source": [
    "# Scale pixel values to between 0 and 1\n",
    "x_train = x_train.astype(\"float32\") / 255\n",
    "x_test = x_test.astype(\"float32\") / 255\n",
    "# Reshape\n",
    "x_train = np.reshape(x_train, (x_train.shape[0], 28, 28, 1))\n",
    "x_test = np.reshape(x_test, (x_test.shape[0], 28, 28, 1))\n",
    "# Split data into 90% training and 10% validation sets\n",
    "split = int(0.9 * len(x_train))\n",
    "x_train, x_val = x_train[:split], x_train[split:]\n",
    "y_train, y_val = y_train[:split], y_train[split:]"
   ]
  },
  {
   "cell_type": "code",
   "execution_count": 4,
   "id": "45a3d007",
   "metadata": {},
   "outputs": [],
   "source": [
    "# Define LeNet model architecture\n",
    "model = keras.Sequential([\n",
    "        layers.Conv2D(filters=6, kernel_size=(5, 5), activation=\"relu\", input_shape=(28, 28, 1)),\n",
    "        layers.AveragePooling2D(),\n",
    "        layers.Conv2D(filters=16, kernel_size=(5, 5), activation=\"relu\"),\n",
    "        layers.AveragePooling2D(),\n",
    "        layers.Flatten(),\n",
    "        layers.Dense(units=120, activation=\"relu\"),\n",
    "        layers.Dense(units=84, activation=\"relu\"),\n",
    "        layers.Dense(units=10, activation=\"softmax\"),   \n",
    "])\n",
    "\n",
    "# Compile the model\n",
    "model.compile(loss=\"sparse_categorical_crossentropy\", optimizer=\"adam\", metrics=[\"accuracy\"])"
   ]
  },
  {
   "cell_type": "code",
   "execution_count": 11,
   "id": "54165359",
   "metadata": {},
   "outputs": [],
   "source": [
    "# Define tensorboard logs directory\n",
    "log_dir = 'C:/Users/kstre_3ikvnbf/CS 4375/Project/MnistLeNet'\n",
    "tensorboard_callback = tf.keras.callbacks.TensorBoard(log_dir=log_dir, histogram_freq=1)"
   ]
  },
  {
   "cell_type": "code",
   "execution_count": null,
   "id": "976d5435",
   "metadata": {},
   "outputs": [],
   "source": [
    "# Train the model\n",
    "model.fit(x_train, y_train, batch_size=64, epochs=30, validation_data=(x_val, y_val), callbacks=[tensorboard_callback])"
   ]
  },
  {
   "cell_type": "code",
   "execution_count": 15,
   "id": "2fbc7acb",
   "metadata": {},
   "outputs": [
    {
     "name": "stdout",
     "output_type": "stream",
     "text": [
      "313/313 [==============================] - 2s 6ms/step - loss: 0.0469 - accuracy: 0.9911\n",
      "313/313 [==============================] - 2s 6ms/step\n"
     ]
    }
   ],
   "source": [
    "# Evaluate the model on the test set\n",
    "test_loss, test_acc = model.evaluate(x_test, y_test)\n",
    "\n",
    "# Generate predictions on the test set\n",
    "y_pred = model.predict(x_test)\n",
    "\n",
    "# Convert predicted probabilities to predicted class labels\n",
    "y_pred_classes = np.argmax(y_pred, axis=1)"
   ]
  },
  {
   "cell_type": "code",
   "execution_count": 16,
   "id": "8121587f",
   "metadata": {},
   "outputs": [
    {
     "name": "stdout",
     "output_type": "stream",
     "text": [
      "Confusion Matrix:\n",
      " [[ 975    0    0    0    1    0    1    1    1    1]\n",
      " [   0 1135    0    0    0    0    0    0    0    0]\n",
      " [   0    1 1026    0    1    0    0    4    0    0]\n",
      " [   0    0    0 1008    0    1    0    0    1    0]\n",
      " [   0    0    1    0  971    0    4    0    0    6]\n",
      " [   2    1    0   10    0  875    2    0    0    2]\n",
      " [   3    4    0    1    0    2  947    0    1    0]\n",
      " [   0    4    3    0    0    0    0 1020    0    1]\n",
      " [   2    0    3    4    0    1    1    0  961    2]\n",
      " [   0    1    0    1    8    2    0    2    2  993]]\n",
      "Test Loss: 0.0468890555202961\n",
      "Accuracy: 0.991100013256073\n",
      "Precision: 0.9911558370377394\n",
      "Recall: 0.9908375219491562\n",
      "F1-score: 0.9909833768399323\n",
      "AU-ROC: 0.9999355071090088\n"
     ]
    }
   ],
   "source": [
    "# Compute evaluation metrics\n",
    "conf_matrix = confusion_matrix(y_test, y_pred_classes)\n",
    "precision = precision_score(y_test, y_pred_classes, average='macro')\n",
    "recall = recall_score(y_test, y_pred_classes, average='macro')\n",
    "f1score = f1_score(y_test, y_pred_classes, average='macro')\n",
    "auc_roc = roc_auc_score(y_test, y_pred, multi_class='ovr')\n",
    "    \n",
    "# Print the evaluation metrics\n",
    "print(\"Confusion Matrix:\\n\", conf_matrix)\n",
    "print(\"Test Loss:\", test_loss)\n",
    "print(\"Accuracy:\", test_acc)\n",
    "print(\"Precision:\", precision)\n",
    "print(\"Recall:\", recall)\n",
    "print(\"F1-score:\", f1score)\n",
    "print(\"AU-ROC:\", auc_roc)"
   ]
  },
  {
   "cell_type": "code",
   "execution_count": 10,
   "id": "55a58683",
   "metadata": {},
   "outputs": [],
   "source": [
    "# Log evaluation metrics to TensorBoard\n",
    "test_writer = tf.summary.create_file_writer(log_dir)\n",
    "with test_writer.as_default():\n",
    "    tf.summary.scalar('Accuracy', test_acc, step=0)\n",
    "    tf.summary.scalar('Precision', precision, step=0)\n",
    "    tf.summary.scalar('Recall', recall, step=0)\n",
    "    tf.summary.scalar('F1-score', f1score, step=0)\n",
    "    tf.summary.scalar('AU-ROC', auc_roc, step=0)"
   ]
  },
  {
   "cell_type": "code",
   "execution_count": null,
   "id": "1ff1b764",
   "metadata": {},
   "outputs": [],
   "source": [
    "# tensorboard --logdir_spec=FashionMLP:\"C:/Users/kstre_3ikvnbf/CS 4375/Project/FashionMLP\",FashionLeNet:\"C:/Users/kstre_3ikvnbf/CS 4375/Project/FashionLeNet\",MnistLeNet:\"C:/Users/kstre_3ikvnbf/CS 4375/Project/MnistLeNet\",MnistMLP:\"C:/Users/kstre_3ikvnbf/CS 4375/Project/MnistMLP\""
   ]
  }
 ],
 "metadata": {
  "kernelspec": {
   "display_name": "Python 3 (ipykernel)",
   "language": "python",
   "name": "python3"
  },
  "language_info": {
   "codemirror_mode": {
    "name": "ipython",
    "version": 3
   },
   "file_extension": ".py",
   "mimetype": "text/x-python",
   "name": "python",
   "nbconvert_exporter": "python",
   "pygments_lexer": "ipython3",
   "version": "3.9.12"
  }
 },
 "nbformat": 4,
 "nbformat_minor": 5
}
